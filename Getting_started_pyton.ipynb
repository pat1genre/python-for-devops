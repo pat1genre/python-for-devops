{
  "nbformat": 4,
  "nbformat_minor": 0,
  "metadata": {
    "colab": {
      "name": "Getting-started-pyton.ipynb",
      "provenance": [],
      "toc_visible": true,
      "authorship_tag": "ABX9TyNf5wbIane4R7BxgjEgEBjB",
      "include_colab_link": true
    },
    "kernelspec": {
      "name": "python3",
      "display_name": "Python 3"
    },
    "language_info": {
      "name": "python"
    }
  },
  "cells": [
    {
      "cell_type": "markdown",
      "metadata": {
        "id": "view-in-github",
        "colab_type": "text"
      },
      "source": [
        "<a href=\"https://colab.research.google.com/github/pat1genre/python-for-devops/blob/main/Getting_started_pyton.ipynb\" target=\"_parent\"><img src=\"https://colab.research.google.com/assets/colab-badge.svg\" alt=\"Open In Colab\"/></a>"
      ]
    },
    {
      "cell_type": "code",
      "execution_count": null,
      "metadata": {
        "id": "YMknauc89HKn"
      },
      "outputs": [],
      "source": [
        ""
      ]
    },
    {
      "cell_type": "markdown",
      "source": [
        "## introduction to python\n",
        "\n"
      ],
      "metadata": {
        "id": "zsGpjniZ-YpR"
      }
    },
    {
      "cell_type": "markdown",
      "source": [
        "### Statement on python\n"
      ],
      "metadata": {
        "id": "MP__ucejF7vV"
      }
    },
    {
      "cell_type": "code",
      "source": [
        "print(\"Hello World\")"
      ],
      "metadata": {
        "colab": {
          "base_uri": "https://localhost:8080/"
        },
        "id": "7C4Y3MPqGvgs",
        "outputId": "1dcff597-d7c0-4ec4-ee60-c47ad1fa67d0"
      },
      "execution_count": 1,
      "outputs": [
        {
          "output_type": "stream",
          "name": "stdout",
          "text": [
            "Hello World\n"
          ]
        }
      ]
    },
    {
      "cell_type": "code",
      "source": [
        "name = \"Patrick\"\n",
        "print(f\"hello {name}\")"
      ],
      "metadata": {
        "colab": {
          "base_uri": "https://localhost:8080/"
        },
        "id": "h7jzk6wLG-9E",
        "outputId": "5c89d9ce-7b06-45f5-94f6-176581d53517"
      },
      "execution_count": 3,
      "outputs": [
        {
          "output_type": "stream",
          "name": "stdout",
          "text": [
            "hello Patrick\n"
          ]
        }
      ]
    },
    {
      "cell_type": "markdown",
      "source": [
        "### Datastructure list and dictionary\n"
      ],
      "metadata": {
        "id": "xUSUPU1NHXVV"
      }
    },
    {
      "cell_type": "markdown",
      "source": [
        "#### This is list"
      ],
      "metadata": {
        "id": "SO5ETIwhKt2h"
      }
    },
    {
      "cell_type": "code",
      "source": [
        "fruit = [\"appl\",\"mango\",\"pear\"]"
      ],
      "metadata": {
        "id": "1bwiLCngHqks"
      },
      "execution_count": 4,
      "outputs": []
    },
    {
      "cell_type": "code",
      "source": [
        "type(fruit)"
      ],
      "metadata": {
        "colab": {
          "base_uri": "https://localhost:8080/"
        },
        "id": "9MGHp4nKIEiN",
        "outputId": "8c48ddfb-fec2-4e34-95fa-d13c81307f32"
      },
      "execution_count": 5,
      "outputs": [
        {
          "output_type": "execute_result",
          "data": {
            "text/plain": [
              "list"
            ]
          },
          "metadata": {},
          "execution_count": 5
        }
      ]
    },
    {
      "cell_type": "code",
      "source": [
        "fruit[0]"
      ],
      "metadata": {
        "colab": {
          "base_uri": "https://localhost:8080/",
          "height": 35
        },
        "id": "xn2AWTZVIHv9",
        "outputId": "0790409c-7919-4c72-9704-698d36592641"
      },
      "execution_count": 6,
      "outputs": [
        {
          "output_type": "execute_result",
          "data": {
            "text/plain": [
              "'appl'"
            ],
            "application/vnd.google.colaboratory.intrinsic+json": {
              "type": "string"
            }
          },
          "metadata": {},
          "execution_count": 6
        }
      ]
    },
    {
      "cell_type": "code",
      "source": [
        "fruit[:-1]"
      ],
      "metadata": {
        "colab": {
          "base_uri": "https://localhost:8080/"
        },
        "id": "EjCC42SVINBu",
        "outputId": "9a8f10a3-2171-48f6-ba3a-f464f32ab9db"
      },
      "execution_count": 7,
      "outputs": [
        {
          "output_type": "execute_result",
          "data": {
            "text/plain": [
              "['appl', 'mango']"
            ]
          },
          "metadata": {},
          "execution_count": 7
        }
      ]
    },
    {
      "cell_type": "code",
      "source": [
        "for my_fruit in fruit:\n",
        "  print(f\"My favorite fruit is : {my_fruit}\")"
      ],
      "metadata": {
        "colab": {
          "base_uri": "https://localhost:8080/"
        },
        "id": "fsMYc6T2IdkT",
        "outputId": "fe8c8027-2e22-4b88-a923-2161eb0becb4"
      },
      "execution_count": 9,
      "outputs": [
        {
          "output_type": "stream",
          "name": "stdout",
          "text": [
            "My favorite fruit is : appl\n",
            "My favorite fruit is : mango\n",
            "My favorite fruit is : pear\n"
          ]
        }
      ]
    },
    {
      "cell_type": "markdown",
      "source": [
        "#### This dictionary"
      ],
      "metadata": {
        "id": "GlQz-i9IJNsD"
      }
    },
    {
      "cell_type": "code",
      "source": [
        "meal = {\"Breakfst\":\"black coffe\",\"Lunch\":\"Salad\",\"Diner\":\"Rice and beans\"}"
      ],
      "metadata": {
        "id": "avy118loJRH-"
      },
      "execution_count": 11,
      "outputs": []
    },
    {
      "cell_type": "code",
      "source": [
        "meal.keys()"
      ],
      "metadata": {
        "colab": {
          "base_uri": "https://localhost:8080/"
        },
        "id": "FyzsO9tdJfgU",
        "outputId": "b8fcf995-df10-4454-d45f-ab0ac42881fb"
      },
      "execution_count": 12,
      "outputs": [
        {
          "output_type": "execute_result",
          "data": {
            "text/plain": [
              "dict_keys(['Breakfst', 'Lunch', 'Diner'])"
            ]
          },
          "metadata": {},
          "execution_count": 12
        }
      ]
    },
    {
      "cell_type": "code",
      "source": [
        "meal.values()"
      ],
      "metadata": {
        "colab": {
          "base_uri": "https://localhost:8080/"
        },
        "id": "OWTRNOboJxMs",
        "outputId": "f99982d9-2bde-49fd-a38c-a06e6202567d"
      },
      "execution_count": 13,
      "outputs": [
        {
          "output_type": "execute_result",
          "data": {
            "text/plain": [
              "dict_values(['black coffe', 'Salad', 'Rice and beans'])"
            ]
          },
          "metadata": {},
          "execution_count": 13
        }
      ]
    },
    {
      "cell_type": "code",
      "source": [
        "for meal_name, meal_item in meal.items():\n",
        "  print(f\"This meal {meal_name} is when I want to consume {meal_item}\")"
      ],
      "metadata": {
        "colab": {
          "base_uri": "https://localhost:8080/"
        },
        "id": "piZW6j07KJ3Z",
        "outputId": "dc02c41f-8539-4d7c-cc80-71a85dec446b"
      },
      "execution_count": 14,
      "outputs": [
        {
          "output_type": "stream",
          "name": "stdout",
          "text": [
            "This meal Breakfst is when I want to consume black coffe\n",
            "This meal Lunch is when I want to consume Salad\n",
            "This meal Diner is when I want to consume Rice and beans\n"
          ]
        }
      ]
    }
  ]
}